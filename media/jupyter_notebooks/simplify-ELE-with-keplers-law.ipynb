{
 "cells": [
  {
   "cell_type": "code",
   "execution_count": 1,
   "id": "initial_id",
   "metadata": {
    "collapsed": true,
    "ExecuteTime": {
     "end_time": "2023-12-30T12:50:14.699840Z",
     "start_time": "2023-12-30T12:50:13.938048Z"
    }
   },
   "outputs": [],
   "source": [
    "import sympy as sym\n",
    "from IPython.display import display, Math\n",
    "\n",
    "# Application of Kepler's third law to the left hand side of the Euler-Lagrange-Equation for the orbit frequency variable\n",
    "\n",
    "m_i = sym.symbols(r\"m_{\\mathrm{i}}\")\n",
    "m_j = sym.symbols(r\"m_{\\mathrm{j}}\")\n",
    "G = sym.symbols(r\"\\mathrm{G}\")\n",
    "t = sym.symbols(\"t\")\n",
    "a_i_j = sym.Function(r\"a_{\\mathrm{i-j}}\")(t)\n",
    "mu_i_j = sym.symbols(r\"\\mu_{\\mathrm{i-j}}\") # standard gravitational parameter\n",
    "n_i_j = sym.Function(r\"n_{\\mathrm{i-j}}\")(t) # standard gravitational parameter"
   ]
  },
  {
   "cell_type": "code",
   "execution_count": 2,
   "outputs": [
    {
     "name": "stdout",
     "output_type": "stream",
     "text": [
      "Expression to simplify: \n"
     ]
    },
    {
     "data": {
      "text/plain": "m_{\\mathrm{i}}*m_{\\mathrm{j}}*(a_{\\mathrm{i-j}}(t)**2*Derivative(n_{\\mathrm{i-j}}(t), t) + 2*a_{\\mathrm{i-j}}(t)*n_{\\mathrm{i-j}}(t)*Derivative(a_{\\mathrm{i-j}}(t), t))/(m_{\\mathrm{i}} + m_{\\mathrm{j}})",
      "text/latex": "$\\displaystyle \\frac{m_{\\mathrm{i}} m_{\\mathrm{j}} \\left(a_{\\mathrm{i-j}}^{2}{\\left(t \\right)} \\frac{d}{d t} n_{\\mathrm{i-j}}{\\left(t \\right)} + 2 a_{\\mathrm{i-j}}{\\left(t \\right)} n_{\\mathrm{i-j}}{\\left(t \\right)} \\frac{d}{d t} a_{\\mathrm{i-j}}{\\left(t \\right)}\\right)}{m_{\\mathrm{i}} + m_{\\mathrm{j}}}$"
     },
     "execution_count": 2,
     "metadata": {},
     "output_type": "execute_result"
    }
   ],
   "source": [
    "expression = m_i*m_j/(m_i+m_j) *(2*n_i_j*a_i_j*sym.diff(a_i_j,t)+a_i_j**2*sym.diff(n_i_j, t))\n",
    "print(\"Expression to simplify: \")\n",
    "expression"
   ],
   "metadata": {
    "collapsed": false,
    "ExecuteTime": {
     "end_time": "2023-12-30T12:50:14.764436Z",
     "start_time": "2023-12-30T12:50:14.703035Z"
    }
   },
   "id": "67de20f41b36723f"
  },
  {
   "cell_type": "code",
   "execution_count": 3,
   "outputs": [
    {
     "name": "stdout",
     "output_type": "stream",
     "text": [
      "Expression after Kepler's third law is applied:\n"
     ]
    },
    {
     "data": {
      "text/plain": "sqrt(\\mu_{\\mathrm{i-j}})*m_{\\mathrm{i}}*m_{\\mathrm{j}}*Derivative(a_{\\mathrm{i-j}}(t), t)/(2*(m_{\\mathrm{i}} + m_{\\mathrm{j}})*sqrt(a_{\\mathrm{i-j}}(t)))",
      "text/latex": "$\\displaystyle \\frac{\\sqrt{\\mu_{\\mathrm{i-j}}} m_{\\mathrm{i}} m_{\\mathrm{j}} \\frac{d}{d t} a_{\\mathrm{i-j}}{\\left(t \\right)}}{2 \\left(m_{\\mathrm{i}} + m_{\\mathrm{j}}\\right) \\sqrt{a_{\\mathrm{i-j}}{\\left(t \\right)}}}$"
     },
     "execution_count": 3,
     "metadata": {},
     "output_type": "execute_result"
    }
   ],
   "source": [
    "# apply Kepler's law \n",
    "n_i_j = mu_i_j**sym.Rational(1,2) * a_i_j**sym.Rational(-3,2) # kepler's third law\n",
    "expression_with_kepler_applied = m_i*m_j/(m_i+m_j) *(2*n_i_j*a_i_j*sym.diff(a_i_j,t)+a_i_j**2*sym.diff(n_i_j, t))\n",
    "print(\"Expression after Kepler's third law is applied:\")\n",
    "expression_with_kepler_applied"
   ],
   "metadata": {
    "collapsed": false,
    "ExecuteTime": {
     "end_time": "2023-12-30T12:50:14.793343Z",
     "start_time": "2023-12-30T12:50:14.768782Z"
    }
   },
   "id": "e6b88b53d7abdcb6"
  },
  {
   "cell_type": "code",
   "execution_count": 4,
   "outputs": [
    {
     "name": "stdout",
     "output_type": "stream",
     "text": [
      " \n",
      "Or rewritten: \n"
     ]
    },
    {
     "data": {
      "text/plain": "<IPython.core.display.Math object>",
      "text/latex": "$\\displaystyle \\frac{1}{2}\\frac{m_im_j}{m_i+m_j}\\bigg(\\frac{\\mu_{i-j}}{a_{i-j}}\\bigg)^{\\frac{1}{2}}\\dot{a}_{i_j}$"
     },
     "metadata": {},
     "output_type": "display_data"
    }
   ],
   "source": [
    "print(\" \")\n",
    "print(\"Or rewritten: \")\n",
    "display(Math(r'\\frac{1}{2}\\frac{m_im_j}{m_i+m_j}\\bigg(\\frac{\\mu_{i-j}}{a_{i-j}}\\bigg)^{\\frac{1}{2}}\\dot{a}_{i_j}'))"
   ],
   "metadata": {
    "collapsed": false,
    "ExecuteTime": {
     "end_time": "2023-12-30T12:50:14.833113Z",
     "start_time": "2023-12-30T12:50:14.785331Z"
    }
   },
   "id": "b0912c9471761ef7"
  },
  {
   "cell_type": "code",
   "execution_count": 4,
   "outputs": [],
   "source": [],
   "metadata": {
    "collapsed": false,
    "ExecuteTime": {
     "end_time": "2023-12-30T12:50:14.864560Z",
     "start_time": "2023-12-30T12:50:14.793377Z"
    }
   },
   "id": "859aa0ed0f20562e"
  }
 ],
 "metadata": {
  "kernelspec": {
   "display_name": "Python 3",
   "language": "python",
   "name": "python3"
  },
  "language_info": {
   "codemirror_mode": {
    "name": "ipython",
    "version": 2
   },
   "file_extension": ".py",
   "mimetype": "text/x-python",
   "name": "python",
   "nbconvert_exporter": "python",
   "pygments_lexer": "ipython2",
   "version": "2.7.6"
  }
 },
 "nbformat": 4,
 "nbformat_minor": 5
}
