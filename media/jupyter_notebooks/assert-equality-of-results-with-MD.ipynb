{
 "cells": [
  {
   "cell_type": "code",
   "execution_count": 1,
   "id": "initial_id",
   "metadata": {
    "collapsed": true,
    "ExecuteTime": {
     "end_time": "2024-01-02T11:09:06.713758Z",
     "start_time": "2024-01-02T11:09:06.041404Z"
    }
   },
   "outputs": [],
   "source": [
    "import sympy as sym \n",
    "from IPython.display import display, Math"
   ]
  },
  {
   "cell_type": "code",
   "execution_count": 2,
   "outputs": [],
   "source": [
    "def latex_this(expr: sym.core.symbol.Symbol) -> None:\n",
    "    \"\"\"\n",
    "    Takes a sympy expression, extracts the latex representation and parses it through Math, such that IPython can display it.\n",
    "    \n",
    "    :param expr: The sympy expression to evaluate.\n",
    "    \n",
    "    :return: None\n",
    "    \"\"\"\n",
    "    display(Math(sym.latex(expr)))"
   ],
   "metadata": {
    "collapsed": false,
    "ExecuteTime": {
     "end_time": "2024-01-02T11:09:06.721340Z",
     "start_time": "2024-01-02T11:09:06.715544Z"
    }
   },
   "id": "f6116b3ca9b3ea3e"
  },
  {
   "cell_type": "code",
   "execution_count": 3,
   "outputs": [],
   "source": [
    "t = sym.symbols('t')\n",
    "G = sym.symbols(r'\\mathrm{G}')\n",
    "R_p = sym.symbols(r'R_{\\mathrm{p}}')\n",
    "R_m = sym.symbols(r'R_{\\mathrm{m}}')\n",
    "k_2p = sym.symbols(r'k_{\\mathrm{2p}}')\n",
    "k_2m = sym.symbols(r'k_{\\mathrm{2m}}')\n",
    "Q_p = sym.symbols(r'Q_{\\mathrm{p}}')\n",
    "Q_m = sym.symbols(r'Q_{\\mathrm{m}}')\n",
    "alpha_m  = sym.symbols(r'α_{m}')\n",
    "alpha_p  = sym.symbols(r'α_{p}')\n",
    "m_m = sym.symbols(r'm_{\\mathrm{m}}')\n",
    "m_p = sym.symbols(r'm_{\\mathrm{p}}')\n",
    "I_p = alpha_p * m_p * R_p**2\n",
    "I_m = alpha_m * m_m * R_m**2\n",
    "a_m_p = sym.Function(r'a_{\\mathrm{m-p}}')(t)\n",
    "mu_m_p = G*(m_p+m_m)\n",
    "n_m_p = mu_m_p**sym.Rational(1,2) * a_m_p**sym.Rational(-3,2) # kepler's third law\n",
    "sgn_omega_m = sym.symbols(r'\\mathrm{sgn}(\\Omega_{\\mathrm{m}}-n_{\\mathrm{m-p}})')\n",
    "sgn_omega_p = sym.symbols(r'\\mathrm{sgn}(\\Omega_{\\mathrm{p}}-n_{\\mathrm{m-p}})')"
   ],
   "metadata": {
    "collapsed": false,
    "ExecuteTime": {
     "end_time": "2024-01-02T11:09:06.775331Z",
     "start_time": "2024-01-02T11:09:06.727366Z"
    }
   },
   "id": "5ae7081b89047f54"
  },
  {
   "cell_type": "code",
   "execution_count": 4,
   "outputs": [],
   "source": [
    "ele_sm_axis_1 = 3 * R_p**5 * sgn_omega_p * mu_m_p**sym.Rational(1,2) * k_2p * m_m / (Q_p * m_p) * a_m_p**sym.Rational(-11,2)\n",
    "ele_sm_axis_2 = 3 * R_m**5 * sgn_omega_m * mu_m_p**sym.Rational(1,2) * k_2m * m_p / (Q_m * m_m) * a_m_p**sym.Rational(-11,2)\n",
    "ele_omega_p = - 3 * G  * R_p**5 * sgn_omega_p * k_2p * m_m**2 / (2 * I_p * Q_p) * a_m_p**sym.Rational(-6,1)\n",
    "ele_omega_m = -3 * G * R_m**5 * sgn_omega_m * k_2m * m_p**2 / (2 * I_m * Q_m) * a_m_p**sym.Rational(-6,1)"
   ],
   "metadata": {
    "collapsed": false,
    "ExecuteTime": {
     "end_time": "2024-01-02T11:09:06.809679Z",
     "start_time": "2024-01-02T11:09:06.784208Z"
    }
   },
   "id": "367c9b2b9ccf2f22"
  },
  {
   "cell_type": "code",
   "execution_count": 5,
   "outputs": [],
   "source": [
    "md_sm_axis_1 = sgn_omega_p * 3 * k_2p * m_m / (Q_p * m_p) * R_p**5 / a_m_p**sym.Rational(5,1) * n_m_p * a_m_p\n",
    "md_sm_axis_2 = sgn_omega_m * 3 * k_2m * m_p / (Q_m * m_m) * R_m**5 / a_m_p**sym.Rational(5,1) * n_m_p * a_m_p\n",
    "md_omega_p = - sgn_omega_p * 3 * k_2p * m_m**2 / (2 * alpha_p * Q_p * m_p * (m_p+m_m)) * R_p**3 / a_m_p**sym.Rational(3,1) * n_m_p**2\n",
    "md_omega_m = - sgn_omega_m * 3 * k_2m * m_p**2 / (2 * alpha_m * Q_m * m_m * (m_p +m_m)) * R_m**3 / a_m_p**sym.Rational(3,1) * n_m_p**2"
   ],
   "metadata": {
    "collapsed": false,
    "ExecuteTime": {
     "end_time": "2024-01-02T11:09:06.834944Z",
     "start_time": "2024-01-02T11:09:06.828539Z"
    }
   },
   "id": "ecbdb0771fa6229f"
  },
  {
   "cell_type": "code",
   "execution_count": 7,
   "outputs": [
    {
     "name": "stdout",
     "output_type": "stream",
     "text": [
      "First semi-major-axis expression from Euler-Lagrange-Equation MINUS corresponding expression from Murray and Dermott: \n"
     ]
    },
    {
     "data": {
      "text/plain": "<IPython.core.display.Math object>",
      "text/latex": "$\\displaystyle \\frac{3 R_{\\mathrm{p}}^{5} \\mathrm{sgn}(\\Omega_{\\mathrm{p}}-n_{\\mathrm{m-p}}) k_{\\mathrm{2p}} m_{\\mathrm{m}} \\sqrt{\\mathrm{G} \\left(m_{\\mathrm{m}} + m_{\\mathrm{p}}\\right)}}{Q_{\\mathrm{p}} m_{\\mathrm{p}} a_{\\mathrm{m-p}}^{\\frac{11}{2}}{\\left(t \\right)}}-\\frac{3 R_{\\mathrm{p}}^{5} \\mathrm{sgn}(\\Omega_{\\mathrm{p}}-n_{\\mathrm{m-p}}) k_{\\mathrm{2p}} m_{\\mathrm{m}} \\sqrt{\\mathrm{G} \\left(m_{\\mathrm{m}} + m_{\\mathrm{p}}\\right)}}{Q_{\\mathrm{p}} m_{\\mathrm{p}} a_{\\mathrm{m-p}}^{\\frac{11}{2}}{\\left(t \\right)}}=0$"
     },
     "metadata": {},
     "output_type": "display_data"
    },
    {
     "name": "stdout",
     "output_type": "stream",
     "text": [
      "Second semi-major-axis expression from Euler-Lagrange-Equation MINUS corresponding expression from Murray and Dermott: \n"
     ]
    },
    {
     "data": {
      "text/plain": "<IPython.core.display.Math object>",
      "text/latex": "$\\displaystyle \\frac{3 R_{\\mathrm{m}}^{5} \\mathrm{sgn}(\\Omega_{\\mathrm{m}}-n_{\\mathrm{m-p}}) k_{\\mathrm{2m}} m_{\\mathrm{p}} \\sqrt{\\mathrm{G} \\left(m_{\\mathrm{m}} + m_{\\mathrm{p}}\\right)}}{Q_{\\mathrm{m}} m_{\\mathrm{m}} a_{\\mathrm{m-p}}^{\\frac{11}{2}}{\\left(t \\right)}}-\\frac{3 R_{\\mathrm{m}}^{5} \\mathrm{sgn}(\\Omega_{\\mathrm{m}}-n_{\\mathrm{m-p}}) k_{\\mathrm{2m}} m_{\\mathrm{p}} \\sqrt{\\mathrm{G} \\left(m_{\\mathrm{m}} + m_{\\mathrm{p}}\\right)}}{Q_{\\mathrm{m}} m_{\\mathrm{m}} a_{\\mathrm{m-p}}^{\\frac{11}{2}}{\\left(t \\right)}}=0$"
     },
     "metadata": {},
     "output_type": "display_data"
    },
    {
     "name": "stdout",
     "output_type": "stream",
     "text": [
      "Omega_p expression from Euler-Lagrange-Equation MINUS corresponding expression from Murray and Dermott: \n"
     ]
    },
    {
     "data": {
      "text/plain": "<IPython.core.display.Math object>",
      "text/latex": "$\\displaystyle - \\frac{3 R_{\\mathrm{p}}^{3} \\mathrm{G} \\mathrm{sgn}(\\Omega_{\\mathrm{p}}-n_{\\mathrm{m-p}}) k_{\\mathrm{2p}} m_{\\mathrm{m}}^{2}}{2 Q_{\\mathrm{p}} m_{\\mathrm{p}} α_{p} a_{\\mathrm{m-p}}^{6}{\\left(t \\right)}}-- \\frac{3 R_{\\mathrm{p}}^{3} \\mathrm{G} \\mathrm{sgn}(\\Omega_{\\mathrm{p}}-n_{\\mathrm{m-p}}) k_{\\mathrm{2p}} m_{\\mathrm{m}}^{2}}{2 Q_{\\mathrm{p}} m_{\\mathrm{p}} α_{p} a_{\\mathrm{m-p}}^{6}{\\left(t \\right)}}=0$"
     },
     "metadata": {},
     "output_type": "display_data"
    },
    {
     "name": "stdout",
     "output_type": "stream",
     "text": [
      "Omega_m expression from Euler-Lagrange-Equation MINUS corresponding expression from Murray and Dermott: \n"
     ]
    },
    {
     "data": {
      "text/plain": "<IPython.core.display.Math object>",
      "text/latex": "$\\displaystyle - \\frac{3 R_{\\mathrm{m}}^{3} \\mathrm{G} \\mathrm{sgn}(\\Omega_{\\mathrm{m}}-n_{\\mathrm{m-p}}) k_{\\mathrm{2m}} m_{\\mathrm{p}}^{2}}{2 Q_{\\mathrm{m}} m_{\\mathrm{m}} α_{m} a_{\\mathrm{m-p}}^{6}{\\left(t \\right)}}-- \\frac{3 R_{\\mathrm{m}}^{3} \\mathrm{G} \\mathrm{sgn}(\\Omega_{\\mathrm{m}}-n_{\\mathrm{m-p}}) k_{\\mathrm{2m}} m_{\\mathrm{p}}^{2}}{2 Q_{\\mathrm{m}} m_{\\mathrm{m}} α_{m} a_{\\mathrm{m-p}}^{6}{\\left(t \\right)}}=0$"
     },
     "metadata": {},
     "output_type": "display_data"
    }
   ],
   "source": [
    "print(\"First semi-major-axis expression from Euler-Lagrange-Equation MINUS corresponding expression from Murray and Dermott: \")\n",
    "display(Math(sym.latex(ele_sm_axis_1) + '-' + sym.latex(md_sm_axis_1) + '=' + sym.latex(ele_sm_axis_1-md_sm_axis_1)))\n",
    "print(\"Second semi-major-axis expression from Euler-Lagrange-Equation MINUS corresponding expression from Murray and Dermott: \")\n",
    "display(Math(sym.latex(ele_sm_axis_2) + '-' + sym.latex(md_sm_axis_2) + '=' + sym.latex(ele_sm_axis_2-md_sm_axis_2)))\n",
    "print(\"Omega_p expression from Euler-Lagrange-Equation MINUS corresponding expression from Murray and Dermott: \")\n",
    "display(Math(sym.latex(ele_omega_p) + '-' + sym.latex(md_omega_p) + '=' + sym.latex(ele_omega_p-md_omega_p)))\n",
    "print(\"Omega_m expression from Euler-Lagrange-Equation MINUS corresponding expression from Murray and Dermott: \")\n",
    "display(Math(sym.latex(ele_omega_m) + '-' + sym.latex(md_omega_m) + '=' + sym.latex(ele_omega_m-md_omega_m)))"
   ],
   "metadata": {
    "collapsed": false,
    "ExecuteTime": {
     "end_time": "2024-01-02T11:09:38.092486Z",
     "start_time": "2024-01-02T11:09:38.075107Z"
    }
   },
   "id": "9ed61bfc29908e95"
  },
  {
   "cell_type": "code",
   "execution_count": 6,
   "outputs": [],
   "source": [],
   "metadata": {
    "collapsed": false,
    "ExecuteTime": {
     "end_time": "2024-01-02T11:09:06.854029Z",
     "start_time": "2024-01-02T11:09:06.849466Z"
    }
   },
   "id": "e059fcd5ad34f3b9"
  }
 ],
 "metadata": {
  "kernelspec": {
   "display_name": "Python 3",
   "language": "python",
   "name": "python3"
  },
  "language_info": {
   "codemirror_mode": {
    "name": "ipython",
    "version": 2
   },
   "file_extension": ".py",
   "mimetype": "text/x-python",
   "name": "python",
   "nbconvert_exporter": "python",
   "pygments_lexer": "ipython2",
   "version": "2.7.6"
  }
 },
 "nbformat": 4,
 "nbformat_minor": 5
}
