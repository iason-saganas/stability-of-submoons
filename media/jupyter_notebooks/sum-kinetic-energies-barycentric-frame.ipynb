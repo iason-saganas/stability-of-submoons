{
 "cells": [
  {
   "cell_type": "code",
   "execution_count": 1,
   "id": "initial_id",
   "metadata": {
    "collapsed": true,
    "ExecuteTime": {
     "end_time": "2023-12-30T12:39:49.258526Z",
     "start_time": "2023-12-30T12:39:48.574254Z"
    }
   },
   "outputs": [],
   "source": [
    "import sympy as sym \n",
    "from IPython.display import display, Math"
   ]
  },
  {
   "cell_type": "code",
   "execution_count": 2,
   "outputs": [],
   "source": [
    "# Define a function that prints the latex code with an associated expression.\n",
    "def latex_this(expression):\n",
    "    display(Math(sym.latex(expression)))"
   ],
   "metadata": {
    "collapsed": false,
    "ExecuteTime": {
     "end_time": "2023-12-30T12:39:49.270972Z",
     "start_time": "2023-12-30T12:39:49.256974Z"
    }
   },
   "id": "2ba37376b0fc5e6"
  },
  {
   "cell_type": "code",
   "execution_count": 3,
   "outputs": [],
   "source": [
    "# Let two bodies orbit their common barycentre. Define their masses, true anomalies, and their distance.\n",
    "m_i = sym.symbols(r'm_{\\mathrm{i}}')\n",
    "m_j = sym.symbols(r'm_{\\mathrm{j}}')\n",
    "t = sym.symbols('t')\n",
    "f_i = sym.Function(r'f_{\\mathrm{i}}')(t)\n",
    "f_j = sym.Function(r'f_{\\mathrm{i}}')(t)\n",
    "f = sym.Function(r'f')(t)\n",
    "r = sym.Function(r'r')(t)"
   ],
   "metadata": {
    "collapsed": false,
    "ExecuteTime": {
     "end_time": "2023-12-30T12:39:49.271731Z",
     "start_time": "2023-12-30T12:39:49.264226Z"
    }
   },
   "id": "b3443d9c4990b087"
  },
  {
   "cell_type": "code",
   "execution_count": 4,
   "outputs": [
    {
     "name": "stdout",
     "output_type": "stream",
     "text": [
      " \n",
      "The true anomalies of the bodies have a difference of exactly π. Therefore, \n",
      " \n"
     ]
    },
    {
     "data": {
      "text/plain": "<IPython.core.display.Math object>",
      "text/latex": "$\\displaystyle \\dot{f_i} = \\dot{f_j}=:\\dot{f}$"
     },
     "metadata": {},
     "output_type": "display_data"
    },
    {
     "name": "stdout",
     "output_type": "stream",
     "text": [
      " \n"
     ]
    }
   ],
   "source": [
    "print(\" \")\n",
    "print(\"The true anomalies of the bodies have a difference of exactly π. Therefore, \")\n",
    "print(\" \")\n",
    "display(Math(r'\\dot{f_i} = \\dot{f_j}=:\\dot{f}'))\n",
    "print(\" \")"
   ],
   "metadata": {
    "collapsed": false,
    "ExecuteTime": {
     "end_time": "2023-12-30T12:39:49.282264Z",
     "start_time": "2023-12-30T12:39:49.274536Z"
    }
   },
   "id": "d63edd018e87ad33"
  },
  {
   "cell_type": "code",
   "execution_count": 5,
   "outputs": [
    {
     "name": "stdout",
     "output_type": "stream",
     "text": [
      "Furthermore, the total distance between the two objects is equal to the sum of the respective distances of the bodies to the barycentre.\n",
      " \n"
     ]
    },
    {
     "data": {
      "text/plain": "<IPython.core.display.Math object>",
      "text/latex": "$\\displaystyle r = r_i + r_j$"
     },
     "metadata": {},
     "output_type": "display_data"
    },
    {
     "name": "stdout",
     "output_type": "stream",
     "text": [
      " \n",
      "And following relationships hold: \n"
     ]
    },
    {
     "data": {
      "text/plain": "<IPython.core.display.Math object>",
      "text/latex": "$\\displaystyle r_i = \\frac{m_j}{m_i+m_j}r$"
     },
     "metadata": {},
     "output_type": "display_data"
    },
    {
     "data": {
      "text/plain": "<IPython.core.display.Math object>",
      "text/latex": "$\\displaystyle r_j = \\frac{m_i}{m_i+m_j}r$"
     },
     "metadata": {},
     "output_type": "display_data"
    }
   ],
   "source": [
    "print(\"Furthermore, the total distance between the two objects is equal to the sum of the respective distances of the bodies to the barycentre.\")\n",
    "print(\" \")\n",
    "display(Math(r'r = r_i + r_j'))\n",
    "print(\" \")\n",
    "print(\"And following relationships hold: \")\n",
    "print(\"\")\n",
    "display(Math(r'r_i = \\frac{m_j}{m_i+m_j}r'))\n",
    "display(Math(r'r_j = \\frac{m_i}{m_i+m_j}r'))"
   ],
   "metadata": {
    "collapsed": false,
    "ExecuteTime": {
     "end_time": "2023-12-30T12:39:49.376216Z",
     "start_time": "2023-12-30T12:39:49.282463Z"
    }
   },
   "id": "8124a297eca50239"
  },
  {
   "cell_type": "code",
   "execution_count": 6,
   "outputs": [],
   "source": [
    "r_i  = m_j / (m_i+m_j) * r\n",
    "r_j  = m_i / (m_i+m_j) * r"
   ],
   "metadata": {
    "collapsed": false,
    "ExecuteTime": {
     "end_time": "2023-12-30T12:39:49.429514Z",
     "start_time": "2023-12-30T12:39:49.292584Z"
    }
   },
   "id": "2ea076ac73bc5c32"
  },
  {
   "cell_type": "code",
   "execution_count": 7,
   "outputs": [
    {
     "name": "stdout",
     "output_type": "stream",
     "text": [
      "\n",
      "The total kinetic energy is equal to \n"
     ]
    },
    {
     "data": {
      "text/plain": "<IPython.core.display.Math object>",
      "text/latex": "$\\displaystyle T=\\frac{1}{2}m_j(\\dot{r_j}^2+r_j^2\\dot{f}^2)+\\frac{1}{2}m_i(\\dot{r_i}^2+r_i^2\\dot{f}^2),$"
     },
     "metadata": {},
     "output_type": "display_data"
    }
   ],
   "source": [
    "print(\"\")\n",
    "print(\"The total kinetic energy is equal to \")\n",
    "display(Math(r'T=\\frac{1}{2}m_j(\\dot{r_j}^2+r_j^2\\dot{f}^2)+\\frac{1}{2}m_i(\\dot{r_i}^2+r_i^2\\dot{f}^2),'))"
   ],
   "metadata": {
    "collapsed": false,
    "ExecuteTime": {
     "end_time": "2023-12-30T12:39:49.454945Z",
     "start_time": "2023-12-30T12:39:49.336532Z"
    }
   },
   "id": "a0944750f58881a3"
  },
  {
   "cell_type": "code",
   "execution_count": 8,
   "outputs": [
    {
     "name": "stdout",
     "output_type": "stream",
     "text": [
      " \n",
      "which simplified equals to:\n"
     ]
    },
    {
     "data": {
      "text/plain": "0.5*m_{\\mathrm{i}}*m_{\\mathrm{j}}*(r(t)**2*Derivative(f(t), t)**2 + Derivative(r(t), t)**2)/(m_{\\mathrm{i}} + m_{\\mathrm{j}})",
      "text/latex": "$\\displaystyle \\frac{0.5 m_{\\mathrm{i}} m_{\\mathrm{j}} \\left(r^{2}{\\left(t \\right)} \\left(\\frac{d}{d t} f{\\left(t \\right)}\\right)^{2} + \\left(\\frac{d}{d t} r{\\left(t \\right)}\\right)^{2}\\right)}{m_{\\mathrm{i}} + m_{\\mathrm{j}}}$"
     },
     "execution_count": 8,
     "metadata": {},
     "output_type": "execute_result"
    }
   ],
   "source": [
    "print(\" \")\n",
    "print(\"which simplified equals to:\")\n",
    "T = sym.simplify(1/2 * m_j * ((r_j.diff(t))**2 + r_j**2*f.diff(t)**2)  +  1/2 * m_i * ((r_i.diff(t))**2 + r_i**2*f.diff(t)**2))\n",
    "T"
   ],
   "metadata": {
    "collapsed": false,
    "ExecuteTime": {
     "end_time": "2023-12-30T12:39:49.675449Z",
     "start_time": "2023-12-30T12:39:49.344368Z"
    }
   },
   "id": "ae04c7f73b7386d3"
  },
  {
   "cell_type": "code",
   "execution_count": 9,
   "outputs": [
    {
     "name": "stdout",
     "output_type": "stream",
     "text": [
      "or rewritten: \n"
     ]
    },
    {
     "data": {
      "text/plain": "<IPython.core.display.Math object>",
      "text/latex": "$\\displaystyle \\frac{1}{2}\\frac{m_im_j}{m_i+m_j}\\bigg(\\dot{r}^2+r^2\\dot{f}^2\\bigg)$"
     },
     "metadata": {},
     "output_type": "display_data"
    }
   ],
   "source": [
    "print(\"or rewritten: \")\n",
    "print(\"\")\n",
    "display(Math(r'\\frac{1}{2}\\frac{m_im_j}{m_i+m_j}\\bigg(\\dot{r}^2+r^2\\dot{f}^2\\bigg)'))"
   ],
   "metadata": {
    "collapsed": false,
    "ExecuteTime": {
     "end_time": "2023-12-30T12:39:49.677513Z",
     "start_time": "2023-12-30T12:39:49.670753Z"
    }
   },
   "id": "745f62563e0a979b"
  },
  {
   "cell_type": "code",
   "execution_count": 10,
   "outputs": [
    {
     "name": "stdout",
     "output_type": "stream",
     "text": [
      "Now we set the eccentricity close to zero: We replace the total distance between the bodies with the semi-major-axis of the smaller body and set the rate of change of the true anomaly to the orbit frequency of the smaller body.\n"
     ]
    },
    {
     "data": {
      "text/plain": "<IPython.core.display.Math object>",
      "text/latex": "$\\displaystyle r\\rightarrow a_{i-j}$"
     },
     "metadata": {},
     "output_type": "display_data"
    },
    {
     "data": {
      "text/plain": "<IPython.core.display.Math object>",
      "text/latex": "$\\displaystyle \\dot{f}\\rightarrow n_{i-j}$"
     },
     "metadata": {},
     "output_type": "display_data"
    }
   ],
   "source": [
    "print(\"Now we set the eccentricity close to zero: We replace the total distance between the bodies with the semi-major-axis of the smaller body and \"\n",
    "      \"set the rate of change of the true anomaly to the orbit frequency of the smaller body.\")\n",
    "print(\"\")\n",
    "display(Math(r'r\\rightarrow a_{i-j}'))\n",
    "display(Math(r'\\dot{f}\\rightarrow n_{i-j}'))"
   ],
   "metadata": {
    "collapsed": false,
    "ExecuteTime": {
     "end_time": "2023-12-30T12:39:49.687286Z",
     "start_time": "2023-12-30T12:39:49.680397Z"
    }
   },
   "id": "10b86ca6d4c0ebf3"
  },
  {
   "cell_type": "code",
   "execution_count": 11,
   "outputs": [
    {
     "name": "stdout",
     "output_type": "stream",
     "text": [
      "And we finally get \n"
     ]
    },
    {
     "data": {
      "text/plain": "<IPython.core.display.Math object>",
      "text/latex": "$\\displaystyle \\frac{1}{2}\\frac{m_im_j}{m_i+m_j}\\bigg(\\dot{a}_{i-j}^2+a_{i-j}^2n_{i-j}^2\\bigg)$"
     },
     "metadata": {},
     "output_type": "display_data"
    }
   ],
   "source": [
    "print(\"And we finally get \")\n",
    "print(\"\")\n",
    "display(Math(r'\\frac{1}{2}\\frac{m_im_j}{m_i+m_j}\\bigg(\\dot{a}_{i-j}^2+a_{i-j}^2n_{i-j}^2\\bigg)'))"
   ],
   "metadata": {
    "collapsed": false,
    "ExecuteTime": {
     "end_time": "2023-12-30T12:39:49.714470Z",
     "start_time": "2023-12-30T12:39:49.687696Z"
    }
   },
   "id": "76efad33cdb34fd3"
  },
  {
   "cell_type": "code",
   "execution_count": 11,
   "outputs": [],
   "source": [],
   "metadata": {
    "collapsed": false,
    "ExecuteTime": {
     "end_time": "2023-12-30T12:39:49.715530Z",
     "start_time": "2023-12-30T12:39:49.693442Z"
    }
   },
   "id": "bca6d91c0fec255"
  }
 ],
 "metadata": {
  "kernelspec": {
   "display_name": "Python 3",
   "language": "python",
   "name": "python3"
  },
  "language_info": {
   "codemirror_mode": {
    "name": "ipython",
    "version": 2
   },
   "file_extension": ".py",
   "mimetype": "text/x-python",
   "name": "python",
   "nbconvert_exporter": "python",
   "pygments_lexer": "ipython2",
   "version": "2.7.6"
  }
 },
 "nbformat": 4,
 "nbformat_minor": 5
}
